{
 "cells": [
  {
   "cell_type": "markdown",
   "metadata": {},
   "source": [
    "# Plotting the effect missing data has on the Naive Bayes classifier \n",
    "\n",
    "Date created: March 14, 2016   \n",
    "Last modified: March 14, 2016  \n",
    "Tags: Gaussian naive bayes, naive bayes, missing data  \n",
    "About: small experiment to see effect missing data and training data size have on the naive bayes classifier"
   ]
  },
  {
   "cell_type": "markdown",
   "metadata": {},
   "source": [
    "Real-world data sets are most often incomplete and [different strategies](https://www.amstat.org/sections/srms/webinarfiles/ModernMethodWebinarMay2012.pdf) have been developed to handle the [missing values](https://en.wikipedia.org/wiki/Missing_data). A simplifying assumption (that the data is missing completely at random --MCAR) is often made and the missing value is replaced by the mean value of the attribute, interpolated from the data available. An issue that arises with imputing data is the reliability of the classification results. The robustness of the classification model when data is imputed can be evaluated by sensitivity analysis.\n",
    "\n",
    "In this example we look at classifier prediction metrics when missing data is imputed. Of the classifiers that are widely used, the Naive Bayes classifier is known to perform well both with small data sets and with missing data. For this experiment we take two data sets (the Fisher iris data set and the Wisconsin breast cancer data set, both of which are in the UCI repository) which have a full set of data and apply the Gaussian Naive Bayes algorithm. We control the  missing rate by progressively varying it from 0% to 75%. The prediction metrics of the classification model for each of these rates is plotted to see the robustness of the classifier. There are a number of evaluation metrics used in supervised learning. For this experiment we will plot two: the [Precision](https://en.wikipedia.org/wiki/Precision_and_recall) which is the percentage of the True Positives in a test result and the [F1 score](https://en.wikipedia.org/wiki/F1_score), which is the harmonic mean of precision and recall.\n",
    "\n",
    "Methodologically we will generate a 67-33% train-test split of the data. The training data will be injected randomly with missing data with missing rate values set at 0%, 10%, 30%, 50% and 75%. We will then impute the missing instances with the mean value of the corresponding attribute. The <i>sklearn preprocessing</i> module automatically makes these computations. The results are measured on the test data using the predicted and actual response.\n"
   ]
  },
  {
   "cell_type": "markdown",
   "metadata": {
    "collapsed": true
   },
   "source": [
    "# Naive  Bayes  \n",
    "\n",
    "The Naive Bayes (NB) supervised classification method is simple to implement yet it performs very well for certain classification tasks. The naive independence assumption means that interactions between variables can be ignored. This makes it a simpler model which needs less data than some other algorithms. The algorithm is also designed so that it naturally handles the missing data. This is because missing instances are not included in the individual probability computations. These defining characteristics make the NB technique robust to missing data and smaller sample sizes. \n",
    "\n",
    "In an experiment to assess the sensitivity of classifiers to missing data, Liu et al. <a href=\"#ref1\">[1]</a> showed that of six standard classifiers, the NB had the best accuracy. The other classifiers showed an obvious decrease in accuracy when the proportion of missing data reached 20% but the NB maintained the same level of accuracy even at 70%. Ten different data sets were used to demonstrate the applicability of the results to a diverse set of data. A very similar result, also on ten data sets, was obtained by Blomberg et al. <a href=\"#ref2\">[2]</a> in their experiments.\n",
    "\n",
    "Here we will follow a similar procedure (outlined above) as they used in their experiments. We will use the Gaussian Naive Bayes algorithm since the data are obtained from  measurements, not counts. We will aslo make use of data sets (Iris, Breast cancer) used in one or both of the papers. \n"
   ]
  },
  {
   "cell_type": "code",
   "execution_count": 9,
   "metadata": {
    "collapsed": false
   },
   "outputs": [],
   "source": [
    "import pandas as pd\n",
    "import numpy as np\n",
    "import matplotlib.pyplot as plt\n",
    "\n",
    "from sklearn import preprocessing  # for the Imputer function\n",
    "from sklearn.cross_validation import train_test_split\n",
    "from sklearn import metrics\n",
    "from sklearn.naive_bayes import GaussianNB\n",
    "\n",
    "%matplotlib inline"
   ]
  },
  {
   "cell_type": "markdown",
   "metadata": {},
   "source": [
    "## I. Iris data set  \n",
    "\n",
    "The first data set we evaluate is the [Iris data set](https://en.wikipedia.org/wiki/Iris_flower_data_set), available in the UCI repository but also the <i>sklearn</i> package. This data set was first analyzed by Fisher and is often used as a test case for classification problems. Four feature measurements are used to classify three species of iris and classifiers such as naive bayes and logistic regression have been shown to achieve a high level of accuracy. \n",
    "\n",
    "Since the dataset is complete and has no missing values we will have to introduce the missing data. We do a 67-33% train-test split and randomly assign missing values to a set proportion of the training data which we control. We then impute the missing values with the mean value of the corresponding attribute. The classification model is fit to training data with imputed values. We then evaluate the classification accuracy on the test set.\n"
   ]
  },
  {
   "cell_type": "code",
   "execution_count": 3,
   "metadata": {
    "collapsed": false
   },
   "outputs": [
    {
     "name": "stdout",
     "output_type": "stream",
     "text": [
      "150\n"
     ]
    }
   ],
   "source": [
    "from sklearn import datasets\n",
    "\n",
    "dataset = datasets.load_iris()\n",
    "\n",
    "X_full_iris = dataset.data\n",
    "y_full_iris = dataset.target\n",
    "print X_full_iris.shape[0]"
   ]
  },
  {
   "cell_type": "markdown",
   "metadata": {},
   "source": [
    "First we run the classification when the data set is complete (and before the missing values are inserted). This gives us a baseline result."
   ]
  },
  {
   "cell_type": "code",
   "execution_count": 4,
   "metadata": {
    "collapsed": false
   },
   "outputs": [
    {
     "name": "stdout",
     "output_type": "stream",
     "text": [
      "             precision    recall  f1-score   support\n",
      "\n",
      "          0       1.00      1.00      1.00        19\n",
      "          1       0.93      0.93      0.93        15\n",
      "          2       0.94      0.94      0.94        16\n",
      "\n",
      "avg / total       0.96      0.96      0.96        50\n",
      "\n"
     ]
    }
   ],
   "source": [
    "X_train, X_test, y_train, y_test = train_test_split(\n",
    "    X_full_iris, y_full_iris, test_size=0.33, random_state=42)\n",
    "\n",
    "gnb = GaussianNB()\n",
    "gnb.fit(X_train, y_train)\n",
    "y_pred = gnb.predict(X_test)\n",
    "print(metrics.classification_report(y_test, y_pred))"
   ]
  },
  {
   "cell_type": "markdown",
   "metadata": {},
   "source": [
    "At 0.96 the average precision, recall and f1 score are very high with the Gausian Naive Bayes classifier when there are no missing values. (We get a precision/recall/f1 score of 1.0 with the Logistic Regression --see the Appendix).  \n",
    "We next evaluate the classification metircs when missing values are injected at different rates. Since the same steps are repeated for each missing rate, I've put all the steps in a function."
   ]
  },
  {
   "cell_type": "code",
   "execution_count": 5,
   "metadata": {
    "collapsed": false
   },
   "outputs": [],
   "source": [
    "\n",
    "def gnb_classifier(X_full, y_full):\n",
    "    \n",
    "    \n",
    "    X_train, X_test, y_train, y_test = train_test_split(\n",
    "        X_full, y_full, test_size=0.33, random_state=42)\n",
    "    n_samples = X_train.shape[0]\n",
    "    n_features = X_train.shape[1]\n",
    "\n",
    "    missing_rates = [0.0, 0.10, 0.30, 0.50, 0.75]\n",
    "    precision = []\n",
    "    fscore = []\n",
    "    \n",
    "    for missing_rate in missing_rates:\n",
    "        \n",
    "        # this is example code from missing_values.py at\n",
    "        # http://scikit-learn.org/stable/auto_examples/missing_values.html\n",
    "        rng = np.random.RandomState(0)\n",
    "\n",
    "        n_missing_samples = np.floor(n_samples * missing_rate)\n",
    "        missing_samples = np.hstack((np.zeros(n_samples - n_missing_samples, dtype=np.bool),\n",
    "                                     np.ones(n_missing_samples, dtype=np.bool)))\n",
    "        rng.shuffle(missing_samples)\n",
    "        missing_features = rng.randint(0, n_features, n_missing_samples)\n",
    "    \n",
    "  \n",
    "        # inject missing data into the training data set\n",
    "        X_missing = X_train.copy()\n",
    "        X_missing[np.where(missing_samples)[0], missing_features] = 0\n",
    "        y_missing = y_train.copy()\n",
    "        # impute missing data with the mean value\n",
    "        imp = preprocessing.Imputer(missing_values='NaN', strategy='mean', axis=0, verbose=0, copy=False)\n",
    "        X_missing_imp = imp.fit_transform(X_missing)\n",
    "\n",
    "        # call the NB classifier\n",
    "        # train the classifier on the imputed data\n",
    "        gnb = GaussianNB()\n",
    "        gnb.fit(X_missing_imp, y_missing)\n",
    "        y_pred = gnb.predict(X_test)\n",
    "        \n",
    "        # compute the precision and fscore\n",
    "        p = round(metrics.precision_score(y_test, y_pred, pos_label=None, average='micro'), 2)\n",
    "        precision.append(p)\n",
    "        f = round(metrics.f1_score(y_test, y_pred, pos_label=None, average='weighted'), 2)\n",
    "        fscore.append(f)  \n",
    "           \n",
    "        print 'Missing rate: {}' .format(missing_rate)  \n",
    "        print(metrics.classification_report(y_test, y_pred))\n",
    "        \n",
    "    return precision, fscore"
   ]
  },
  {
   "cell_type": "markdown",
   "metadata": {},
   "source": [
    "<h4> Results</h4>"
   ]
  },
  {
   "cell_type": "code",
   "execution_count": 24,
   "metadata": {
    "collapsed": false
   },
   "outputs": [
    {
     "name": "stdout",
     "output_type": "stream",
     "text": [
      "Missing rate: 0.0\n",
      "             precision    recall  f1-score   support\n",
      "\n",
      "          0       1.00      1.00      1.00        19\n",
      "          1       0.93      0.93      0.93        15\n",
      "          2       0.94      0.94      0.94        16\n",
      "\n",
      "avg / total       0.96      0.96      0.96        50\n",
      "\n",
      "Missing rate: 0.1\n",
      "             precision    recall  f1-score   support\n",
      "\n",
      "          0       1.00      1.00      1.00        19\n",
      "          1       1.00      0.80      0.89        15\n",
      "          2       0.84      1.00      0.91        16\n",
      "\n",
      "avg / total       0.95      0.94      0.94        50\n",
      "\n",
      "Missing rate: 0.3\n",
      "             precision    recall  f1-score   support\n",
      "\n",
      "          0       1.00      1.00      1.00        19\n",
      "          1       0.93      0.87      0.90        15\n",
      "          2       0.88      0.94      0.91        16\n",
      "\n",
      "avg / total       0.94      0.94      0.94        50\n",
      "\n",
      "Missing rate: 0.5\n",
      "             precision    recall  f1-score   support\n",
      "\n",
      "          0       1.00      1.00      1.00        19\n",
      "          1       1.00      0.73      0.85        15\n",
      "          2       0.80      1.00      0.89        16\n",
      "\n",
      "avg / total       0.94      0.92      0.92        50\n",
      "\n",
      "Missing rate: 0.75\n",
      "             precision    recall  f1-score   support\n",
      "\n",
      "          0       1.00      1.00      1.00        19\n",
      "          1       0.92      0.80      0.86        15\n",
      "          2       0.83      0.94      0.88        16\n",
      "\n",
      "avg / total       0.92      0.92      0.92        50\n",
      "\n"
     ]
    },
    {
     "name": "stderr",
     "output_type": "stream",
     "text": [
      "/opt/local/Library/Frameworks/Python.framework/Versions/2.7/lib/python2.7/site-packages/ipykernel/__main__.py:22: DeprecationWarning: using a non-integer number instead of an integer will result in an error in the future\n",
      "/opt/local/Library/Frameworks/Python.framework/Versions/2.7/lib/python2.7/site-packages/ipykernel/__main__.py:25: DeprecationWarning: using a non-integer number instead of an integer will result in an error in the future\n"
     ]
    }
   ],
   "source": [
    "# call the classifier and evaluate perfomance \n",
    "# for five different missing rates\n",
    "precision_iris, fscore_iris = gnb_classifier(X_full_iris, y_full_iris)"
   ]
  },
  {
   "cell_type": "markdown",
   "metadata": {},
   "source": [
    "<h4>Results on much smaller data set (~65% of original data not used) </h4>  \n",
    "\n",
    "Since the NB classifier is known to give good results even for small data sets, we create a data set where only ~25% of the original data is used to train the classifier (10% is test and 65% of the data is not used). \n",
    "For both this truncated data set and cases with a high missing-rate, a substantial portion of the data set is not used for training the classifier. We can compare the predictive performance for the two situations."
   ]
  },
  {
   "cell_type": "code",
   "execution_count": 48,
   "metadata": {
    "collapsed": false
   },
   "outputs": [
    {
     "name": "stdout",
     "output_type": "stream",
     "text": [
      "             precision    recall  f1-score   support\n",
      "\n",
      "        0.0       1.00      1.00      1.00         2\n",
      "        1.0       0.80      1.00      0.89         4\n",
      "        2.0       1.00      0.89      0.94         9\n",
      "\n",
      "avg / total       0.95      0.93      0.94        15\n",
      "\n"
     ]
    }
   ],
   "source": [
    "df_iris = pd.DataFrame(X_full_iris)\n",
    "df_iris['class']= y_full_iris\n",
    "\n",
    "# construct new iris data set from a third of the original data set\n",
    "# randomly select a third of the rows from the original dataframe\n",
    "rows = np.random.choice(df_iris.index.values, len(df_iris)/3)\n",
    "small_df_iris = df_iris.ix[rows]\n",
    "\n",
    "X = small_df_iris.values[:,:4]\n",
    "y = small_df_iris.values[:,4]\n",
    "# training data is ~25% of original Iris data set\n",
    "X_train, X_test, y_train, y_test = train_test_split(\n",
    "    X, y, test_size=0.30, random_state=2718)\n",
    "\n",
    "gnb = GaussianNB()\n",
    "gnb.fit(X_train, y_train)\n",
    "y_pred = gnb.predict(X_test)\n",
    "print(metrics.classification_report(y_test, y_pred))"
   ]
  },
  {
   "cell_type": "markdown",
   "metadata": {
    "collapsed": false
   },
   "source": [
    "## II. Wisconsin breast cancer data set\n",
    "\n",
    "The UCI [Wisconsin breast cancer dataset](https://archive.ics.uci.edu/ml/machine-learning-databases/breast-cancer-wisconsin/) has a binary response (benign/malignant, encoded 2/4) and can be set up as a classification problem. This dataset has 699 records with 16 instances of missing data which we will remove so that we start with a full data set.  \n",
    "\n",
    "Once again we will do a 67-33% train-test split, assign missing values to the training data, impute the missing values, apply the gaussian naive bayes classifier and finally assess the classifier accuracy on the test set.  \n"
   ]
  },
  {
   "cell_type": "markdown",
   "metadata": {},
   "source": [
    "<h4> Preprocessing the data </h4>"
   ]
  },
  {
   "cell_type": "code",
   "execution_count": 25,
   "metadata": {
    "collapsed": false,
    "scrolled": true
   },
   "outputs": [
    {
     "data": {
      "text/html": [
       "<div>\n",
       "<table border=\"1\" class=\"dataframe\">\n",
       "  <thead>\n",
       "    <tr style=\"text-align: right;\">\n",
       "      <th></th>\n",
       "      <th>1</th>\n",
       "      <th>2</th>\n",
       "      <th>3</th>\n",
       "      <th>4</th>\n",
       "      <th>5</th>\n",
       "      <th>6</th>\n",
       "      <th>7</th>\n",
       "      <th>8</th>\n",
       "      <th>9</th>\n",
       "      <th>10</th>\n",
       "    </tr>\n",
       "  </thead>\n",
       "  <tbody>\n",
       "    <tr>\n",
       "      <th>0</th>\n",
       "      <td>5</td>\n",
       "      <td>1</td>\n",
       "      <td>1</td>\n",
       "      <td>1</td>\n",
       "      <td>2</td>\n",
       "      <td>1</td>\n",
       "      <td>3</td>\n",
       "      <td>1</td>\n",
       "      <td>1</td>\n",
       "      <td>2</td>\n",
       "    </tr>\n",
       "    <tr>\n",
       "      <th>1</th>\n",
       "      <td>5</td>\n",
       "      <td>4</td>\n",
       "      <td>4</td>\n",
       "      <td>5</td>\n",
       "      <td>7</td>\n",
       "      <td>10</td>\n",
       "      <td>3</td>\n",
       "      <td>2</td>\n",
       "      <td>1</td>\n",
       "      <td>2</td>\n",
       "    </tr>\n",
       "  </tbody>\n",
       "</table>\n",
       "</div>"
      ],
      "text/plain": [
       "   1   2   3   4   5   6   7   8   9   10\n",
       "0   5   1   1   1   2   1   3   1   1   2\n",
       "1   5   4   4   5   7  10   3   2   1   2"
      ]
     },
     "execution_count": 25,
     "metadata": {},
     "output_type": "execute_result"
    }
   ],
   "source": [
    "url = \"https://archive.ics.uci.edu/ml/machine-learning-databases/breast-cancer-wisconsin/breast-cancer-wisconsin.data\"\n",
    "dataset = pd.read_csv(url, header=None, usecols=list(range(1,11)))\n",
    "\n",
    "dataset.head(2)"
   ]
  },
  {
   "cell_type": "code",
   "execution_count": 8,
   "metadata": {
    "collapsed": false
   },
   "outputs": [
    {
     "name": "stdout",
     "output_type": "stream",
     "text": [
      "1      int64\n",
      "2      int64\n",
      "3      int64\n",
      "4      int64\n",
      "5      int64\n",
      "6     object\n",
      "7      int64\n",
      "8      int64\n",
      "9      int64\n",
      "10     int64\n",
      "dtype: object\n"
     ]
    }
   ],
   "source": [
    "print dataset.dtypes"
   ]
  },
  {
   "cell_type": "code",
   "execution_count": 26,
   "metadata": {
    "collapsed": false
   },
   "outputs": [
    {
     "name": "stdout",
     "output_type": "stream",
     "text": [
      "1       int64\n",
      "2       int64\n",
      "3       int64\n",
      "4       int64\n",
      "5       int64\n",
      "6     float64\n",
      "7       int64\n",
      "8       int64\n",
      "9       int64\n",
      "10      int64\n",
      "dtype: object\n"
     ]
    },
    {
     "name": "stderr",
     "output_type": "stream",
     "text": [
      "/opt/local/Library/Frameworks/Python.framework/Versions/2.7/lib/python2.7/site-packages/ipykernel/__main__.py:2: FutureWarning: convert_objects is deprecated.  Use the data-type specific converters pd.to_datetime, pd.to_timedelta and pd.to_numeric.\n",
      "  from ipykernel import kernelapp as app\n"
     ]
    }
   ],
   "source": [
    "# convert column 6 to a numeric\n",
    "dataset[6] = dataset[6].convert_objects(convert_numeric=True)\n",
    "# \"convert_objects\" is deprecated but the alternative, \n",
    "# \"pd.to_numeric\" seems to have issues of its own\n",
    "#pd.to_numeric(dataset[6])\n",
    "#dataset.apply(pd.to_numeric, errors='ignore')\n",
    "print dataset.dtypes"
   ]
  },
  {
   "cell_type": "code",
   "execution_count": 27,
   "metadata": {
    "collapsed": false
   },
   "outputs": [
    {
     "name": "stdout",
     "output_type": "stream",
     "text": [
      "size before removing missing data: 699\n",
      "size after removing missing data: 683\n"
     ]
    }
   ],
   "source": [
    "# remove the 16 missing values (2% of the dataset)\n",
    "print 'size before removing missing data: {}' .format(dataset.shape[0])\n",
    "dataset.dropna(how='any', inplace=True)\n",
    "print 'size after removing missing data: {}' .format(dataset.shape[0])"
   ]
  },
  {
   "cell_type": "markdown",
   "metadata": {},
   "source": [
    "<h4>Results</h4>"
   ]
  },
  {
   "cell_type": "code",
   "execution_count": 31,
   "metadata": {
    "collapsed": false
   },
   "outputs": [
    {
     "name": "stdout",
     "output_type": "stream",
     "text": [
      "Missing rate: 0.0\n",
      "             precision    recall  f1-score   support\n",
      "\n",
      "          2       0.98      0.97      0.98       142\n",
      "          4       0.95      0.96      0.96        84\n",
      "\n",
      "avg / total       0.97      0.97      0.97       226\n",
      "\n",
      "Missing rate: 0.1\n",
      "             precision    recall  f1-score   support\n",
      "\n",
      "          2       0.98      0.97      0.98       142\n",
      "          4       0.95      0.96      0.96        84\n",
      "\n",
      "avg / total       0.97      0.97      0.97       226\n",
      "\n",
      "Missing rate: 0.3\n",
      "             precision    recall  f1-score   support\n",
      "\n",
      "          2       0.99      0.97      0.98       142\n",
      "          4       0.95      0.98      0.96        84\n",
      "\n",
      "avg / total       0.97      0.97      0.97       226\n",
      "\n",
      "Missing rate: 0.5\n",
      "             precision    recall  f1-score   support\n",
      "\n",
      "          2       0.99      0.97      0.98       142\n",
      "          4       0.95      0.99      0.97        84\n",
      "\n",
      "avg / total       0.98      0.98      0.98       226\n",
      "\n",
      "Missing rate: 0.75\n",
      "             precision    recall  f1-score   support\n",
      "\n",
      "          2       0.99      0.97      0.98       142\n",
      "          4       0.95      0.99      0.97        84\n",
      "\n",
      "avg / total       0.98      0.98      0.98       226\n",
      "\n"
     ]
    },
    {
     "name": "stderr",
     "output_type": "stream",
     "text": [
      "/opt/local/Library/Frameworks/Python.framework/Versions/2.7/lib/python2.7/site-packages/ipykernel/__main__.py:22: DeprecationWarning: using a non-integer number instead of an integer will result in an error in the future\n",
      "/opt/local/Library/Frameworks/Python.framework/Versions/2.7/lib/python2.7/site-packages/ipykernel/__main__.py:25: DeprecationWarning: using a non-integer number instead of an integer will result in an error in the future\n"
     ]
    }
   ],
   "source": [
    "X_full_breastcancer = dataset.loc[:,0:9].values\n",
    "y_full_breastcancer = dataset[10].values\n",
    "\n",
    "# call the classifier \n",
    "# evaluate perfomance for five different missing rates\n",
    "precision_breastcancer, fscore_breastcancer = gnb_classifier(X_full_breastcancer, y_full_breastcancer)"
   ]
  },
  {
   "cell_type": "markdown",
   "metadata": {},
   "source": [
    "## III. Plotting the Precision vs the Missing Rate for the two data sets"
   ]
  },
  {
   "cell_type": "code",
   "execution_count": 64,
   "metadata": {
    "collapsed": false
   },
   "outputs": [
    {
     "data": {
      "image/png": "[encoded data removed]",
      "text/plain": [
       "<matplotlib.figure.Figure at 0x117096850>"
      ]
     },
     "metadata": {},
     "output_type": "display_data"
    }
   ],
   "source": [
    "missing_rates = [0.0, 0.10, 0.30, 0.50, 0.75]\n",
    "fig=plt.figure(figsize=(9,4))\n",
    "\n",
    "plt.subplot(1, 2, 1)\n",
    "plt.plot(missing_rates, precision_iris, label='iris')\n",
    "plt.plot(missing_rates, precision_breastcancer, 'm', label='breast cancer')\n",
    "plt.ylim(0.7,1)\n",
    "plt.ylabel('precision', fontsize=13)\n",
    "plt.xlabel('missing rate', fontsize=13)\n",
    "plt.title('Precision vs Missing rate', fontsize=18)\n",
    "plt.grid()\n",
    "plt.legend(loc='lower right')\n",
    "\n",
    "plt.subplot(1, 2, 2)\n",
    "plt.plot(missing_rates, fscore_iris, label='iris')\n",
    "plt.plot(missing_rates, fscore_breastcancer, 'm', label='breast cancer')\n",
    "plt.ylim(0.7,1)\n",
    "plt.ylabel('F-score', fontsize=13)\n",
    "plt.xlabel('missing rate', fontsize=13)\n",
    "plt.title('F-score vs Missing rate', fontsize=18)\n",
    "plt.grid()\n",
    "plt.legend(loc='lower right')\n",
    "\n",
    "plt.tight_layout()"
   ]
  },
  {
   "cell_type": "markdown",
   "metadata": {},
   "source": [
    "## Discussion    \n",
    "\n",
    "The plots show that there is no significant loss in predictive performance as the controlled missing-rates vary from 0 to 75% for the two data sets. These results are in line with those reported in [1] and [2] for ten data sets.\n",
    "\n",
    "For the iris data, we have the baseline value of 0.96 (precision/recall/f1 score) when there are no missing values. This indicates that the gaussian naive bayes is a good classifier for the data set. Furthermore, we are able to achieve a classification accuracy in the 0.95 range when significantly less data is used (we train with 35/150 records or about 25% of the original data set). The high predictive performance of another classifier --the Logistic Regression-- at 1.0 (see Appendix) indicates that this data set can be easily classified as well. In short, we expect good results from this data set and this classifier and the results with the missing data should be assessed in this context. \n",
    "\n",
    "We carried out this small experiment to get an insight into the effect missing data and training data size had on the classification performance of the naive bayes classifier. A full-scale study would involve an average over different training samples and a larger matrix of data sets which vary in number of attributes, classes, data instances and feature correlations. "
   ]
  },
  {
   "cell_type": "markdown",
   "metadata": {},
   "source": [
    "## Appendix   \n",
    "\n",
    "For comparison purposes we use Logistic Regression to classify the Iris data set with no missing values."
   ]
  },
  {
   "cell_type": "code",
   "execution_count": 65,
   "metadata": {
    "collapsed": false
   },
   "outputs": [
    {
     "name": "stdout",
     "output_type": "stream",
     "text": [
      "LogisticRegression(C=1.0, class_weight=None, dual=False, fit_intercept=True,\n",
      "          intercept_scaling=1, max_iter=100, multi_class='ovr', n_jobs=1,\n",
      "          penalty='l2', random_state=None, solver='liblinear', tol=0.0001,\n",
      "          verbose=0, warm_start=False)\n",
      "             precision    recall  f1-score   support\n",
      "\n",
      "          0       1.00      1.00      1.00        19\n",
      "          1       1.00      1.00      1.00        15\n",
      "          2       1.00      1.00      1.00        16\n",
      "\n",
      "avg / total       1.00      1.00      1.00        50\n",
      "\n"
     ]
    }
   ],
   "source": [
    "# Using the Iris data set with no missing values\n",
    "\n",
    "from sklearn.linear_model import LogisticRegression\n",
    "\n",
    "X_train, X_test, y_train, y_test = train_test_split(\n",
    "    X_full_iris, y_full_iris, test_size=0.33, random_state=42)\n",
    "\n",
    "model = LogisticRegression()\n",
    "model.fit(X_train, y_train)\n",
    "print(model)\n",
    "# make predictions\n",
    "expected = y_test\n",
    "predicted = model.predict(X_test)\n",
    "# summarize the fit of the model\n",
    "print(metrics.classification_report(expected, predicted))"
   ]
  },
  {
   "cell_type": "markdown",
   "metadata": {
    "collapsed": true
   },
   "source": [
    "## References and Further Reading\n",
    "\n",
    "<a name=\"ref1\"></a>[1] [Liu, P., Lei, L. and Wu, N. (2005). A Quantitative Study of the Effect of Missing Data in Classifiers. Proc. of IEEE CIT:28:33](http://bb2.shufe.edu.cn/bbcswebdav/institution/%E4%BF%A1%E6%81%AF%E5%AD%A6%E9%99%A2/teacherweb/2000000629/mypapers/cit2005.pdf)  \n",
    "<a name=\"ref2\"></a>[2] [Blomberg, L.C., Ruiz, D.D.A. (2013). Evaluating the influence of missing data on classification algorithms in data mining applications. In SBSI 2013](http://www.lbd.dcc.ufmg.br/colecoes/sbsi/2013/0066.pdf)  \n",
    "[3] Allision, P. [Modern Methods for Missing Data](https://www.amstat.org/sections/srms/webinarfiles/ModernMethodWebinarMay2012.pdf)"
   ]
  },
  {
   "cell_type": "markdown",
   "metadata": {
    "collapsed": true
   },
   "source": [
    "<div style=\"background-color: #FAAC58; margin-left: 0px; margin-right: 20px; padding-bottom: 8px; padding-left: 8px; padding-right: 8px; padding-top: 8px;\">\n",
    "\n",
    "\n",
    "Author:  Meena Mani  <br>\n",
    "email:   meenas.mailbag@gmail.com   <br> \n",
    "twitter: @meena_uvaca    <br>\n",
    "</div>"
   ]
  }
 ],
 "metadata": {
  "kernelspec": {
   "display_name": "Python 2",
   "language": "python",
   "name": "python2"
  },
  "language_info": {
   "codemirror_mode": {
    "name": "ipython",
    "version": 2
   },
   "file_extension": ".py",
   "mimetype": "text/x-python",
   "name": "python",
   "nbconvert_exporter": "python",
   "pygments_lexer": "ipython2",
   "version": "2.7.8"
  }
 },
 "nbformat": 4,
 "nbformat_minor": 0
}
